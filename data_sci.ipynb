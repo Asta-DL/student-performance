{
 "cells": [
  {
   "cell_type": "code",
   "execution_count": 1,
   "id": "dd2c52a1",
   "metadata": {},
   "outputs": [
    {
     "name": "stdout",
     "output_type": "stream",
     "text": [
      "c:\\Users\\jigya\\AppData\\Local\\Programs\\Python\\Python313\\python.exe\n"
     ]
    }
   ],
   "source": [
    "import sys\n",
    "print(sys.executable)"
   ]
  },
  {
   "cell_type": "code",
   "execution_count": null,
   "id": "a23d7fe6",
   "metadata": {},
   "outputs": [
    {
     "name": "stdout",
     "output_type": "stream",
     "text": [
      "   Roll No    Name  DBMS  Python  Data Science  OS_Linux  Statistics  \\\n",
      "0        1   Kiran    77      82            87        76          65   \n",
      "1        2   Suman    76      87            92        54          72   \n",
      "2        3  Vikram    87      90            88        60          93   \n",
      "3        4     Raj    76      76            68        93          98   \n",
      "4        5  Simran    95      61            87        62          75   \n",
      "\n",
      "   Total Obtained  Total Marks  \n",
      "0             387          500  \n",
      "1             381          500  \n",
      "2             418          500  \n",
      "3             411          500  \n",
      "4             380          500  \n"
     ]
    }
   ],
   "source": [
    "import pandas as pd\n",
    "df=pd.read_excel(\"students_marks.xlsx\")\n",
    "print(df.head())"
   ]
  },
  {
   "cell_type": "code",
   "execution_count": 4,
   "id": "921b558b",
   "metadata": {},
   "outputs": [
    {
     "name": "stdout",
     "output_type": "stream",
     "text": [
      "    Roll No      Name  Total_Marks  Average_Marks\n",
      "0         1     Kiran          387           77.4\n",
      "1         2     Suman          381           76.2\n",
      "2         3    Vikram          418           83.6\n",
      "3         4       Raj          411           82.2\n",
      "4         5    Simran          380           76.0\n",
      "5         6    Shreya          328           65.6\n",
      "6         7      Ravi          403           80.6\n",
      "7         8      Alok          398           79.6\n",
      "8         9  Shrishti          374           74.8\n",
      "9        10    Manish          388           77.6\n",
      "10       11      Tara          312           62.4\n",
      "11       12      Isha          379           75.8\n",
      "12       13     Kiran          375           75.0\n",
      "13       14    Vihaan          387           77.4\n",
      "14       15     Rohan          372           74.4\n",
      "15       16    Ramesh          326           65.2\n",
      "16       17   Manisha          389           77.8\n",
      "17       18   Samriti          396           79.2\n",
      "18       19     Pooja          390           78.0\n",
      "19       20     Sonia          370           74.0\n",
      "20       21  Sidharth          419           83.8\n",
      "21       22     Varun          323           64.6\n",
      "22       23     Priya          406           81.2\n",
      "23       24      Amit          359           71.8\n",
      "24       25   Vishesh          300           60.0\n",
      "25       26     Arjun          360           72.0\n",
      "26       27     Aarav          393           78.6\n",
      "27       28     Geeta          358           71.6\n",
      "28       29     Nisha          362           72.4\n",
      "29       30     Rohit          406           81.2\n"
     ]
    }
   ],
   "source": [
    "subjects = [\"DBMS\", \"Python\", \"Data Science\", \"OS_Linux\", \"Statistics\"]\n",
    "\n",
    "# Total marks\n",
    "df[\"Total_Marks\"] = df[subjects].sum(axis=1)  #axis=1 because we want to cal total marks from row-wise\n",
    "\n",
    "# Average marks\n",
    "df[\"Average_Marks\"] = df[subjects].mean(axis=1)\n",
    "\n",
    "print(df[[\"Roll No\", \"Name\", \"Total_Marks\", \"Average_Marks\"]])"
   ]
  },
  {
   "cell_type": "code",
   "execution_count": 5,
   "id": "0e6ca784",
   "metadata": {},
   "outputs": [
    {
     "name": "stdout",
     "output_type": "stream",
     "text": [
      "Topper details...\n",
      "Roll No                 21\n",
      "Name              Sidharth\n",
      "DBMS                    77\n",
      "Python                  90\n",
      "Data Science            76\n",
      "OS_Linux                85\n",
      "Statistics              91\n",
      "Total Obtained         419\n",
      "Total Marks            500\n",
      "Total_Marks            419\n",
      "Average_Marks         83.8\n",
      "Name: 20, dtype: object\n"
     ]
    }
   ],
   "source": [
    "# df[\"Total_Marks\"].idxmax() → find row index with highest total\n",
    "# df.loc[...] → fetch that entire row (all details of the topper)\n",
    "topper=df.loc[df[\"Total_Marks\"].idxmax()]\n",
    "print(\"Topper details...\")\n",
    "print(topper)\n"
   ]
  },
  {
   "cell_type": "code",
   "execution_count": 6,
   "id": "2a0bc751",
   "metadata": {},
   "outputs": [
    {
     "name": "stdout",
     "output_type": "stream",
     "text": [
      "        Name  Total_Marks  Average_Marks Grade\n",
      "0      Kiran          387           77.4     B\n",
      "1      Suman          381           76.2     B\n",
      "2     Vikram          418           83.6     B\n",
      "3        Raj          411           82.2     B\n",
      "4     Simran          380           76.0     B\n",
      "5     Shreya          328           65.6     C\n",
      "6       Ravi          403           80.6     B\n",
      "7       Alok          398           79.6     B\n",
      "8   Shrishti          374           74.8     C\n",
      "9     Manish          388           77.6     B\n",
      "10      Tara          312           62.4     C\n",
      "11      Isha          379           75.8     B\n",
      "12     Kiran          375           75.0     B\n",
      "13    Vihaan          387           77.4     B\n",
      "14     Rohan          372           74.4     C\n",
      "15    Ramesh          326           65.2     C\n",
      "16   Manisha          389           77.8     B\n",
      "17   Samriti          396           79.2     B\n",
      "18     Pooja          390           78.0     B\n",
      "19     Sonia          370           74.0     C\n",
      "20  Sidharth          419           83.8     B\n",
      "21     Varun          323           64.6     C\n",
      "22     Priya          406           81.2     B\n",
      "23      Amit          359           71.8     C\n",
      "24   Vishesh          300           60.0     C\n",
      "25     Arjun          360           72.0     C\n",
      "26     Aarav          393           78.6     B\n",
      "27     Geeta          358           71.6     C\n",
      "28     Nisha          362           72.4     C\n",
      "29     Rohit          406           81.2     B\n"
     ]
    }
   ],
   "source": [
    "def assign_grade(avg):\n",
    "    if avg >= 90:\n",
    "        return \"A\"\n",
    "    elif avg >= 75:\n",
    "        return \"B\"\n",
    "    elif avg >= 60:\n",
    "        return \"C\"\n",
    "    elif avg >= 50:\n",
    "        return \"D\"\n",
    "    else:\n",
    "        return \"F\"\n",
    "\n",
    "# Apply grading\n",
    "df[\"Grade\"] = df[\"Average_Marks\"].apply(assign_grade)\n",
    "\n",
    "print(df[[\"Name\", \"Total_Marks\", \"Average_Marks\", \"Grade\"]])"
   ]
  },
  {
   "cell_type": "code",
   "execution_count": 8,
   "id": "2fcb376d",
   "metadata": {},
   "outputs": [
    {
     "data": {
      "image/png": "[encoded data removed]",
      "text/plain": [
       "<Figure size 600x600 with 1 Axes>"
      ]
     },
     "metadata": {},
     "output_type": "display_data"
    }
   ],
   "source": [
    "import matplotlib.pyplot as plt\n",
    "grade_counts = df[\"Grade\"].value_counts()\n",
    "\n",
    "# Plot pie chart\n",
    "plt.figure(figsize=(6,6))\n",
    "plt.pie(grade_counts, labels=grade_counts.index, autopct='%1.1f%%', startangle=90)\n",
    "plt.title(\"Student Grade Distribution\")\n",
    "plt.show()"
   ]
  }
 ],
 "metadata": {
  "kernelspec": {
   "display_name": "Python 3",
   "language": "python",
   "name": "python3"
  },
  "language_info": {
   "codemirror_mode": {
    "name": "ipython",
    "version": 3
   },
   "file_extension": ".py",
   "mimetype": "text/x-python",
   "name": "python",
   "nbconvert_exporter": "python",
   "pygments_lexer": "ipython3",
   "version": "3.13.2"
  }
 },
 "nbformat": 4,
 "nbformat_minor": 5
}
